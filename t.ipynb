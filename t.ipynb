{
 "cells": [
  {
   "cell_type": "code",
   "execution_count": null,
   "id": "dcdbfaf1",
   "metadata": {},
   "outputs": [
    {
     "data": {
      "text/plain": [
       "[0, 3, 8]"
      ]
     },
     "execution_count": 1,
     "metadata": {},
     "output_type": "execute_result"
    }
   ],
   "source": [
    "from itertools import accumulate\n",
    "\n",
    "node_counts = [3,5,7]\n",
    "[0] + list(accumulate(node_counts))[:-1]  # [0,1,2  ,3,4,5,6,7,   ]"
   ]
  },
  {
   "cell_type": "code",
   "execution_count": 1,
   "id": "22be921f",
   "metadata": {},
   "outputs": [
    {
     "data": {
      "text/plain": [
       "{0: 'a', 1: 'b', 2: 'c'}"
      ]
     },
     "execution_count": 1,
     "metadata": {},
     "output_type": "execute_result"
    }
   ],
   "source": [
    "a = {0: 'a', 1: 'b', 2: 'c'}\n",
    "a"
   ]
  },
  {
   "cell_type": "code",
   "execution_count": 2,
   "id": "6e0e83ec",
   "metadata": {},
   "outputs": [
    {
     "name": "stdout",
     "output_type": "stream",
     "text": [
      "{0: 'a', 1: 'b', 2: 'c'}\n"
     ]
    }
   ],
   "source": [
    "print(a)"
   ]
  },
  {
   "cell_type": "code",
   "execution_count": 3,
   "id": "464ea05b",
   "metadata": {},
   "outputs": [
    {
     "data": {
      "text/plain": [
       "'a_b_c'"
      ]
     },
     "execution_count": 3,
     "metadata": {},
     "output_type": "execute_result"
    }
   ],
   "source": [
    "'_'.join(a.values())  # 'a_b_c'"
   ]
  },
  {
   "cell_type": "code",
   "execution_count": 2,
   "id": "3dcc9b3b",
   "metadata": {},
   "outputs": [
    {
     "data": {
      "text/plain": [
       "torch_geometric.datasets.wikics.WikiCS"
      ]
     },
     "execution_count": 2,
     "metadata": {},
     "output_type": "execute_result"
    }
   ],
   "source": [
    "getattr(__import__(\"torch_geometric.datasets\", fromlist=[\"WikiCS\"]), 'WikiCS')"
   ]
  },
  {
   "cell_type": "code",
   "execution_count": 3,
   "id": "7afe1068",
   "metadata": {},
   "outputs": [
    {
     "data": {
      "text/plain": [
       "torch_geometric.datasets.planetoid.Planetoid"
      ]
     },
     "execution_count": 3,
     "metadata": {},
     "output_type": "execute_result"
    }
   ],
   "source": [
    "getattr(__import__(\"torch_geometric.datasets\", fromlist=['Planetoid']), 'Planetoid')"
   ]
  },
  {
   "cell_type": "code",
   "execution_count": 4,
   "id": "ec16a56e",
   "metadata": {},
   "outputs": [],
   "source": [
    "from  torch_geometric.datasets.planetoid import Planetoid"
   ]
  },
  {
   "cell_type": "code",
   "execution_count": 1,
   "id": "c58f3c0d",
   "metadata": {},
   "outputs": [
    {
     "data": {
      "text/plain": [
       "'1,2,3'"
      ]
     },
     "execution_count": 1,
     "metadata": {},
     "output_type": "execute_result"
    }
   ],
   "source": [
    "','.join(['1', '2', '3'])"
   ]
  },
  {
   "cell_type": "code",
   "execution_count": 1,
   "id": "9a124e43",
   "metadata": {},
   "outputs": [
    {
     "name": "stdout",
     "output_type": "stream",
     "text": [
      "Has attribute node_text_feat in batch: True\n",
      "node_text_feat shape: torch.Size([5, 5])\n",
      "batch.x shape: torch.Size([5, 4])\n",
      "batch.batch: tensor([0, 0, 0, 1, 1])\n",
      "node_text_feat: tensor([[-0.8457, -1.3872,  0.1103,  0.0270, -0.2347],\n",
      "        [ 0.6908, -0.3074,  0.6114,  1.1157, -0.4710],\n",
      "        [-0.5413, -0.3664, -2.0241, -0.8136,  2.0391],\n",
      "        [-0.3709,  1.4970, -0.6532,  1.1448, -0.2519],\n",
      "        [ 0.3818, -0.3297, -0.6311, -0.8399, -0.1597]])\n"
     ]
    }
   ],
   "source": [
    "import torch\n",
    "from torch_geometric.data import Data, Batch\n",
    "\n",
    "# Create two graphs: one with node_text_feat, one without\n",
    "x1 = torch.randn(3,4)\n",
    "edge_index1 = torch.tensor([[0,1],[1,2]], dtype=torch.long).t()\n",
    "data1 = Data(x=x1, edge_index=edge_index1, node_text_feat=torch.randn(3,5), y = torch.tensor([0, 1, 2]))  # has node_text_feat\n",
    "\n",
    "x2 = torch.randn(2,4)\n",
    "edge_index2 = torch.tensor([[0,1]], dtype=torch.long).t()\n",
    "data2 = Data(x=x2, edge_index=edge_index2, node_text_feat=torch.randn(2,5), y = torch.tensor([0, 1]))  # no node_text_feat\n",
    "\n",
    "batch = Batch.from_data_list([data1, data2])\n",
    "print(\"Has attribute node_text_feat in batch:\", hasattr(batch, \"node_text_feat\"))\n",
    "print(\"node_text_feat shape:\", batch.node_text_feat.shape if hasattr(batch, \"node_text_feat\") else None)\n",
    "print(\"batch.x shape:\", batch.x.shape)\n",
    "print(\"batch.batch:\", batch.batch)\n",
    "# Inspect values corresponding to second graph: node_text_feat indices 3 and 4 since first had 3 nodes\n",
    "print(\"node_text_feat:\", batch.node_text_feat)"
   ]
  },
  {
   "cell_type": "code",
   "execution_count": 1,
   "id": "c35dd32b",
   "metadata": {},
   "outputs": [],
   "source": [
    "a = {}\n",
    "b = ['a', 'b', 'c']\n",
    "for b_n in b: \n",
    "    if b_n not in a:\n",
    "        a[b_n] = 1"
   ]
  },
  {
   "cell_type": "code",
   "execution_count": 3,
   "id": "61f267a6",
   "metadata": {},
   "outputs": [
    {
     "data": {
      "text/plain": [
       "'pubmed_arxiv_wikics'"
      ]
     },
     "execution_count": 3,
     "metadata": {},
     "output_type": "execute_result"
    }
   ],
   "source": [
    "'_'.join(['pubmed', 'arxiv', 'wikics'])"
   ]
  },
  {
   "cell_type": "code",
   "execution_count": 4,
   "id": "f5abb7f2",
   "metadata": {},
   "outputs": [],
   "source": [
    "import torch\n",
    "a = torch.arange(10)"
   ]
  },
  {
   "cell_type": "code",
   "execution_count": 7,
   "id": "90794059",
   "metadata": {},
   "outputs": [
    {
     "data": {
      "text/plain": [
       "torch.Size([10, 1])"
      ]
     },
     "execution_count": 7,
     "metadata": {},
     "output_type": "execute_result"
    }
   ],
   "source": [
    "a.unsqueeze(1).shape"
   ]
  },
  {
   "cell_type": "code",
   "execution_count": null,
   "id": "98616ec3",
   "metadata": {},
   "outputs": [],
   "source": []
  }
 ],
 "metadata": {
  "kernelspec": {
   "display_name": "base",
   "language": "python",
   "name": "python3"
  },
  "language_info": {
   "codemirror_mode": {
    "name": "ipython",
    "version": 3
   },
   "file_extension": ".py",
   "mimetype": "text/x-python",
   "name": "python",
   "nbconvert_exporter": "python",
   "pygments_lexer": "ipython3",
   "version": "3.12.7"
  }
 },
 "nbformat": 4,
 "nbformat_minor": 5
}
